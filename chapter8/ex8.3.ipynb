{
 "cells": [
  {
   "cell_type": "markdown",
   "metadata": {},
   "source": [
    "## Exercise 8.3"
   ]
  },
  {
   "cell_type": "markdown",
   "metadata": {},
   "source": [
    "If you did the exercises in Chapter 3, you saw the effect of the Hamming window, and some of the other windows provided by NumPy, on spectral leakage.  We can get some insight into the effect of these windows by looking at their DFTs.\n",
    "\n",
    "In addition to the Gaussian window we used in this window, create a Hamming window with the same size.  Zero pad the windows and plot their DFTs.  Which window acts as a better low-pass filter?  You might find it useful to plot the DFTs on a log-$y$ scale.\n",
    "\n",
    "Experiment with a few different windows and a few different sizes."
   ]
  },
  {
   "cell_type": "code",
   "execution_count": 1,
   "metadata": {},
   "outputs": [],
   "source": [
    "import os, numpy as np, matplotlib.pyplot as plt, scipy.signal\n",
    "from thinkdsp import decorate, TriangleSignal\n",
    "from ipywidgets import interact, interactive, fixed\n",
    "import ipywidgets as widgets\n",
    "if not os.path.exists('thinkdsp.py'):\n",
    "    !wget https://github.com/cpulover/signal-processing/blob/master/thinkdsp.py"
   ]
  },
  {
   "cell_type": "markdown",
   "metadata": {},
   "source": [
    "A sample wave:"
   ]
  },
  {
   "cell_type": "code",
   "execution_count": 2,
   "metadata": {
    "jupyter": {
     "outputs_hidden": false
    }
   },
   "outputs": [],
   "source": [
    "signal = TriangleSignal(freq=500)\n",
    "wave = signal.make_wave(duration=1.0, framerate=15943)"
   ]
  },
  {
   "cell_type": "markdown",
   "metadata": {},
   "source": [
    "Create different windows:"
   ]
  },
  {
   "cell_type": "code",
   "execution_count": 3,
   "metadata": {
    "jupyter": {
     "outputs_hidden": false
    }
   },
   "outputs": [],
   "source": [
    "M = 20\n",
    "std = 3\n",
    "\n",
    "gaussian = scipy.signal.gaussian(M=M, std=std)   \n",
    "bartlett = np.bartlett(M)\n",
    "blackman = np.blackman(M)\n",
    "hamming = np.hamming(M)\n",
    "hanning = np.hanning(M)\n",
    "#beta = 5\n",
    "#kaiser = np.kaiser(M,beta)\n",
    "\n",
    "windows = [blackman, gaussian, hanning, hamming]\n",
    "names = ['blackman', 'gaussian', 'hanning', 'hamming']\n",
    "\n",
    "for window in windows:\n",
    "    window /= sum(window) #normalize"
   ]
  },
  {
   "cell_type": "markdown",
   "metadata": {},
   "source": [
    "Alternatively, we can generalize different windows by using Kaiser window with different shape parameter (beta):"
   ]
  },
  {
   "cell_type": "code",
   "execution_count": 4,
   "metadata": {},
   "outputs": [],
   "source": [
    "def plot_windows(beta):\n",
    "    kaiser = np.kaiser(M,beta)\n",
    "    kaiser /= sum(kaiser)\n",
    "    plt.plot(kaiser, label='kaiser')\n",
    "    for window, name in zip(windows, names):\n",
    "        plt.plot(window, label=name)\n",
    "    decorate(xlabel='Time')"
   ]
  },
  {
   "cell_type": "code",
   "execution_count": 5,
   "metadata": {
    "jupyter": {
     "outputs_hidden": false
    }
   },
   "outputs": [
    {
     "data": {
      "application/vnd.jupyter.widget-view+json": {
       "model_id": "962cdb4eba9c464ba2ece29621a00cd0",
       "version_major": 2,
       "version_minor": 0
      },
      "text/plain": [
       "interactive(children=(FloatSlider(value=4.0, description='beta', max=10.0, min=0.1), Output()), _dom_classes=(…"
      ]
     },
     "metadata": {},
     "output_type": "display_data"
    }
   ],
   "source": [
    "slider = widgets.FloatSlider(min=0.1, max=10, value=4)\n",
    "interact(plot_windows, beta=slider);"
   ]
  },
  {
   "cell_type": "markdown",
   "metadata": {},
   "source": [
    "Notice that higher the beta is, narrower the curve is. The gaussion, blackman, hanning, hamming curve is similar to the kaiser curve with beta of 9.8, 8.6, 6, 5, respectively."
   ]
  },
  {
   "cell_type": "markdown",
   "metadata": {},
   "source": [
    " Define function to zero pad the windows and plot their DFTs:"
   ]
  },
  {
   "cell_type": "code",
   "execution_count": 6,
   "metadata": {},
   "outputs": [],
   "source": [
    "def zero_pad(array, n):\n",
    "    \"\"\"Extends an array with zeros.\n",
    "    array: NumPy array\n",
    "    n: length of result\n",
    "    returns: new NumPy array\n",
    "    \"\"\"\n",
    "    res = np.zeros(n)\n",
    "    res[:len(array)] = array\n",
    "    return res"
   ]
  },
  {
   "cell_type": "code",
   "execution_count": 20,
   "metadata": {
    "jupyter": {
     "outputs_hidden": false
    }
   },
   "outputs": [],
   "source": [
    "def plot_window_dfts(beta):\n",
    "    kaiser = np.kaiser(M,beta)\n",
    "    kaiser /= sum(kaiser)\n",
    "    padded_kaiser = zero_pad(kaiser, len(wave))\n",
    "    plt.plot(abs(np.fft.rfft(padded_kaiser)), label='kaiser')\n",
    "    for window, name in zip(windows, names):\n",
    "        padded =  zero_pad(window, len(wave))\n",
    "        dft_window = np.fft.rfft(padded)\n",
    "        plt.plot(abs(dft_window), label=name)\n",
    "        decorate(xlabel='Frequency (Hz)',yscale='log')"
   ]
  },
  {
   "cell_type": "code",
   "execution_count": 21,
   "metadata": {
    "jupyter": {
     "outputs_hidden": false
    },
    "scrolled": true
   },
   "outputs": [
    {
     "data": {
      "application/vnd.jupyter.widget-view+json": {
       "model_id": "cb4289cb0a1b4b578ac0621b9dee2b3a",
       "version_major": 2,
       "version_minor": 0
      },
      "text/plain": [
       "interactive(children=(FloatSlider(value=4.0, description='beta', max=10.0, min=0.1), Output()), _dom_classes=(…"
      ]
     },
     "metadata": {},
     "output_type": "display_data"
    }
   ],
   "source": [
    "slider = widgets.FloatSlider(min=0.1, max=10, value=4)\n",
    "interact(plot_window_dfts, windows=windows,names=names,beta=slider);"
   ]
  },
  {
   "cell_type": "markdown",
   "metadata": {},
   "source": [
    "Notice that higher the beta is, faster the DFT drops off and less persistent sidelobes it has. Therefore, the Hanning window might have the best combination of fast drop off and minimal sidelobes."
   ]
  }
 ],
 "metadata": {
  "kernelspec": {
   "display_name": "Python 3",
   "language": "python",
   "name": "python3"
  },
  "language_info": {
   "codemirror_mode": {
    "name": "ipython",
    "version": 3
   },
   "file_extension": ".py",
   "mimetype": "text/x-python",
   "name": "python",
   "nbconvert_exporter": "python",
   "pygments_lexer": "ipython3",
   "version": "3.7.6"
  }
 },
 "nbformat": 4,
 "nbformat_minor": 4
}
