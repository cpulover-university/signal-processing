{
 "cells": [
  {
   "cell_type": "markdown",
   "metadata": {},
   "source": [
    "## Exercise 7.2"
   ]
  },
  {
   "cell_type": "markdown",
   "metadata": {
    "colab_type": "text",
    "id": "S8NtYXaGpg0b"
   },
   "source": [
    "In this chapter, I showed how we can express the DFT and inverse DFT\n",
    "as matrix multiplications.  These operations take time proportional to\n",
    "$N^2$, where $N$ is the length of the wave array.  That is fast enough\n",
    "for many applications, but there is a faster\n",
    "algorithm, the Fast Fourier Transform (FFT), which takes time\n",
    "proportional to $N \\log N$.\n",
    "\n",
    "The key to the FFT is the Danielson-Lanczos lemma:\n",
    "\n",
    "$DFT(y)[n] = DFT(e)[n] + \\exp(-2 \\pi i n / N) DFT(o)[n]$\n",
    "\n",
    "Where $ DFT(y)[n]$ is the $n$th element of the DFT of $y$; $e$ is the even elements of $y$, and $o$ is the odd elements of $y$.\n",
    "\n",
    "This lemma suggests a recursive algorithm for the DFT:\n",
    "\n",
    "1. Given a wave array, $y$, split it into its even elements, $e$, and its odd elements, $o$.\n",
    "\n",
    "2. Compute the DFT of $e$ and $o$ by making recursive calls.\n",
    "\n",
    "3. Compute $DFT(y)$ for each value of $n$ using the Danielson-Lanczos lemma.\n",
    "\n",
    "For the base case of this recursion, you could wait until the length\n",
    "of $y$ is 1.  In that case, $DFT(y) = y$.  Or if the length of $y$\n",
    "is sufficiently small, you could compute its DFT by matrix multiplication,\n",
    "possibly using a precomputed matrix.\n",
    "\n",
    "Hint: I suggest you implement this algorithm incrementally by starting\n",
    "with a version that is not truly recursive.  In Step 2, instead of\n",
    "making a recursive call, use `dft` or `np.fft.fft`.  Get Step 3 working,\n",
    "and confirm that the results are consistent with the other\n",
    "implementations.  Then add a base case and confirm that it works.\n",
    "Finally, replace Step 2 with recursive calls.\n",
    "\n",
    "One more hint: Remember that the DFT is periodic; you might find `np.tile` useful.\n",
    "\n",
    "You can read more about the FFT at https://en.wikipedia.org/wiki/Fast_Fourier_transform."
   ]
  },
  {
   "cell_type": "code",
   "execution_count": 1,
   "metadata": {
    "colab": {},
    "colab_type": "code",
    "id": "WfxfKx3ppg0X"
   },
   "outputs": [],
   "source": [
    "import numpy as np\n",
    "PI2 = 2 * np.pi"
   ]
  },
  {
   "cell_type": "markdown",
   "metadata": {
    "colab_type": "text",
    "id": "ihPfE8tWpg0c"
   },
   "source": [
    "Sample signal:"
   ]
  },
  {
   "cell_type": "code",
   "execution_count": 10,
   "metadata": {
    "colab": {},
    "colab_type": "code",
    "id": "qTWxw5eSpg0c",
    "jupyter": {
     "outputs_hidden": false
    },
    "outputId": "5ce7223e-161a-473c-cb9c-2ef2877c3bce"
   },
   "outputs": [],
   "source": [
    "ys = [0.6, 0.25, 0.1, 0.05, 0.3, 0.2,-0.5,0.3]"
   ]
  },
  {
   "cell_type": "markdown",
   "metadata": {},
   "source": [
    "Function to compare results of FT:"
   ]
  },
  {
   "cell_type": "code",
   "execution_count": 3,
   "metadata": {},
   "outputs": [],
   "source": [
    "def compare(arr1, arr2):\n",
    "    result = np.sum(np.abs(arr1-arr2))\n",
    "    return format(result, '.1g')"
   ]
  },
  {
   "cell_type": "markdown",
   "metadata": {
    "colab_type": "text",
    "id": "LZdK1lvTpg0p"
   },
   "source": [
    "Step 2: We use np.fft.fft instead of making a recursive call to implement the algorithm:"
   ]
  },
  {
   "cell_type": "code",
   "execution_count": 13,
   "metadata": {
    "colab": {},
    "colab_type": "code",
    "id": "kvsTwhqgpg0p",
    "jupyter": {
     "outputs_hidden": false
    }
   },
   "outputs": [],
   "source": [
    "def fake_fft(ys):\n",
    "    N = len(ys)\n",
    "    He = np.fft.fft(ys[::2])\n",
    "    Ho = np.fft.fft(ys[1::2])\n",
    "    \n",
    "    ns = np.arange(N)\n",
    "    W = np.exp(-1j * PI2 * ns / N)\n",
    "    \n",
    "    return np.tile(He, 2) + W * np.tile(Ho, 2)"
   ]
  },
  {
   "cell_type": "markdown",
   "metadata": {
    "colab_type": "text",
    "id": "qdrQJ9fMpg0s"
   },
   "source": [
    "We compare results of this implementation with np.fft.fft:"
   ]
  },
  {
   "cell_type": "code",
   "execution_count": 14,
   "metadata": {
    "colab": {},
    "colab_type": "code",
    "id": "3KVMyXRxpg0t",
    "jupyter": {
     "outputs_hidden": false
    },
    "outputId": "4fbe03d1-ebb4-4fb3-9726-d4dafd02284b"
   },
   "outputs": [
    {
     "data": {
      "text/plain": [
       "'3e-16'"
      ]
     },
     "execution_count": 14,
     "metadata": {},
     "output_type": "execute_result"
    }
   ],
   "source": [
    "compare(fake_fft(ys), np.fft.fft(ys))"
   ]
  },
  {
   "cell_type": "markdown",
   "metadata": {
    "colab_type": "text",
    "id": "T_j4-FmTpg0z"
   },
   "source": [
    "The error is significantly small, so we can confirm that the function works."
   ]
  },
  {
   "cell_type": "markdown",
   "metadata": {},
   "source": [
    "Step 3: Now we try replacing Step 2 with recursive calls and adding base case to the function:"
   ]
  },
  {
   "cell_type": "code",
   "execution_count": 6,
   "metadata": {
    "colab": {},
    "colab_type": "code",
    "id": "M3ph_pjrpg00",
    "jupyter": {
     "outputs_hidden": false
    }
   },
   "outputs": [],
   "source": [
    "def fft(ys):\n",
    "    N = len(ys)\n",
    "    if N == 1:\n",
    "        return ys\n",
    "    \n",
    "    He = fft(ys[::2])\n",
    "    Ho = fft(ys[1::2])\n",
    "    \n",
    "    ns = np.arange(N)\n",
    "    W = np.exp(-1j * PI2 * ns / N)\n",
    "    \n",
    "    return np.tile(He, 2) + W * np.tile(Ho, 2)"
   ]
  },
  {
   "cell_type": "markdown",
   "metadata": {
    "colab_type": "text",
    "id": "fr2qsVl5pg03"
   },
   "source": [
    "Compare the results of implementations:"
   ]
  },
  {
   "cell_type": "code",
   "execution_count": 11,
   "metadata": {
    "colab": {},
    "colab_type": "code",
    "id": "Xy3MEHgcpg04",
    "jupyter": {
     "outputs_hidden": false
    },
    "outputId": "d7844ea3-6041-4a32-da96-79cffd1036bd"
   },
   "outputs": [
    {
     "data": {
      "text/plain": [
       "'1e-15'"
      ]
     },
     "execution_count": 11,
     "metadata": {},
     "output_type": "execute_result"
    }
   ],
   "source": [
    "compare(fft(ys), np.fft.fft(ys))"
   ]
  },
  {
   "cell_type": "markdown",
   "metadata": {},
   "source": [
    "They are the same."
   ]
  }
 ],
 "metadata": {
  "colab": {
   "name": "chap07soln.ipynb",
   "provenance": []
  },
  "kernelspec": {
   "display_name": "Python 3",
   "language": "python",
   "name": "python3"
  },
  "language_info": {
   "codemirror_mode": {
    "name": "ipython",
    "version": 3
   },
   "file_extension": ".py",
   "mimetype": "text/x-python",
   "name": "python",
   "nbconvert_exporter": "python",
   "pygments_lexer": "ipython3",
   "version": "3.7.6"
  }
 },
 "nbformat": 4,
 "nbformat_minor": 1
}
